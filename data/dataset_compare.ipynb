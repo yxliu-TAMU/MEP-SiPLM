{
 "cells": [
  {
   "cell_type": "code",
   "execution_count": 1,
   "id": "c16b83db-5883-4c3f-a7e3-517a28404087",
   "metadata": {},
   "outputs": [],
   "source": [
    "#check if the 3-dataset have any overlap and split the dataset into different classes\n",
    "#Dataset 1: ProteinGym: https://github.com/OATML-Markslab/ProteinGym\n",
    "#Dataset 2: \n",
    "import numpy"
   ]
  },
  {
   "cell_type": "code",
   "execution_count": null,
   "id": "fdcd0727-e29f-4a26-91d4-f03c4042c623",
   "metadata": {},
   "outputs": [],
   "source": []
  }
 ],
 "metadata": {
  "kernelspec": {
   "display_name": "Python 3 (ipykernel)",
   "language": "python",
   "name": "python3"
  },
  "language_info": {
   "codemirror_mode": {
    "name": "ipython",
    "version": 3
   },
   "file_extension": ".py",
   "mimetype": "text/x-python",
   "name": "python",
   "nbconvert_exporter": "python",
   "pygments_lexer": "ipython3",
   "version": "3.9.18"
  }
 },
 "nbformat": 4,
 "nbformat_minor": 5
}
