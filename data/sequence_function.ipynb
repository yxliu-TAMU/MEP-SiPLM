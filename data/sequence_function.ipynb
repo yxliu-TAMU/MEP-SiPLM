{
 "cells": [
  {
   "cell_type": "code",
   "execution_count": 1,
   "metadata": {},
   "outputs": [
    {
     "name": "stdout",
     "output_type": "stream",
     "text": [
      "Index(['DMS_id', 'DMS_filename', 'UniProt_ID', 'taxon', 'source_organism',\n",
      "       'target_seq', 'seq_len', 'includes_multiple_mutants',\n",
      "       'DMS_total_number_mutants', 'DMS_number_single_mutants',\n",
      "       'DMS_number_multiple_mutants', 'DMS_binarization_cutoff',\n",
      "       'DMS_binarization_method', 'first_author', 'title', 'year', 'jo',\n",
      "       'region_mutated', 'molecule_name', 'selection_assay', 'selection_type',\n",
      "       'MSA_filename', 'MSA_start', 'MSA_end', 'MSA_len', 'MSA_bitscore',\n",
      "       'MSA_theta', 'MSA_num_seqs', 'MSA_perc_cov', 'MSA_num_cov', 'MSA_N_eff',\n",
      "       'MSA_Neff_L', 'MSA_Neff_L_category', 'MSA_num_significant',\n",
      "       'MSA_num_significant_L', 'raw_DMS_filename', 'raw_DMS_phenotype_name',\n",
      "       'raw_DMS_directionality', 'raw_DMS_mutant_column', 'weight_file_name',\n",
      "       'pdb_file', 'ProteinGym_version', 'raw_mut_offset',\n",
      "       'coarse_selection_type'],\n",
      "      dtype='object')\n"
     ]
    }
   ],
   "source": [
    "#Analysis spearman result in different length and function\n",
    "import os\n",
    "import pandas as pd\n",
    "df = pd.read_csv('../dataset/ProteinGym/reference_files/DMS_substitutions.csv')\n",
    "print(df.columns)"
   ]
  },
  {
   "cell_type": "code",
   "execution_count": 60,
   "metadata": {},
   "outputs": [],
   "source": [
    "df_PST = pd.read_csv('../dataset/ProteinGym/result/PST_combined_results.csv')"
   ]
  },
  {
   "cell_type": "code",
   "execution_count": 75,
   "metadata": {},
   "outputs": [
    {
     "name": "stdout",
     "output_type": "stream",
     "text": [
      "0.4297519192156319 0.4197856236328361 0.45347354330217243\n"
     ]
    }
   ],
   "source": [
    "from scipy.stats import spearmanr\n",
    "dms_id_ignored = [\"A0A140D2T1_ZIKV_Sourisseau_2019\", \"BRCA2_HUMAN_Erwood_2022_HEK293T\", \"CAS9_STRP1_Spencer_2017_positive\", \"P53_HUMAN_Giacomelli_2018_Null_Etoposide\", \"P53_HUMAN_Giacomelli_2018_Null_Nutlin\", \"P53_HUMAN_Giacomelli_2018_WT_Nutlin\",\n",
    "\"POLG_HCVJF_Qi_2014\",\"POLG_CXB3N_Mattenberger_2021\"]\n",
    "ProtSSN_result = \"/scratch/user/yxliu/ecen766/course_project/benchmark/ProtSSN/result/ProteinGym/\"\n",
    "SaProt_result = \"/scratch/user/yxliu/ecen766/course_project/dataset/ProteinGym/result/SaProt/\"\n",
    "length_list= []\n",
    "protssn_list = []\n",
    "type_list = []\n",
    "pst_list = []\n",
    "saprot_list = []\n",
    "for i in range(len(df)):\n",
    "    dms_id = df.iloc[i]['DMS_id']\n",
    "    includes_multiple_mutants = df.iloc[i]['includes_multiple_mutants']\n",
    "    if (dms_id not in dms_id_ignored) and ~includes_multiple_mutants:\n",
    "        #print(dms_id)\n",
    "        length = df.iloc[i]['seq_len']\n",
    "        length_list.append(length)\n",
    "        type_list.append(df.iloc[i]['coarse_selection_type'])\n",
    "        df_protssn = pd.read_csv(ProtSSN_result + dms_id + \".csv\")\n",
    "        df_saprot = pd.read_csv(SaProt_result + dms_id + \"_result.csv\")\n",
    "        gt = df_protssn[\"score\"].tolist()\n",
    "        pred_protssn = df_protssn[\"ProtSSN_k20_h512\"].tolist()\n",
    "        df_PST_dms = df_PST[df_PST['protein_id'] == dms_id]\n",
    "        pred_PST = df_PST_dms[\"y_score\"].tolist()\n",
    "        gt_PST = df_PST_dms[\"y_true\"].tolist()\n",
    "        pred_saprot = df_saprot[\"mutant_score\"].tolist()\n",
    "        gt_saprot = df_saprot[\"score\"].tolist()\n",
    "        assert gt == gt_PST\n",
    "        spearman_score_protssn = spearmanr(gt, pred_protssn)\n",
    "        spearman_score_PST = spearmanr(gt, pred_PST)\n",
    "        assert gt==gt_saprot\n",
    "        spearman_score_saprot = spearmanr(gt, pred_saprot)\n",
    "        protssn_list.append(spearman_score_protssn.correlation)\n",
    "        pst_list.append(spearman_score_PST.correlation)\n",
    "        saprot_list.append(spearman_score_saprot.correlation)\n",
    "print(np.mean(protssn_list), np.mean(pst_list),np.mean(saprot_list))"
   ]
  },
  {
   "cell_type": "code",
   "execution_count": 76,
   "metadata": {},
   "outputs": [
    {
     "name": "stdout",
     "output_type": "stream",
     "text": [
      "2016\n",
      "[   0  500 1000 2500]\n",
      "140 140\n"
     ]
    },
    {
     "data": {
      "image/png": "[encoded data removed]",
      "text/plain": [
       "<Figure size 640x480 with 2 Axes>"
      ]
     },
     "metadata": {},
     "output_type": "display_data"
    },
    {
     "name": "stdout",
     "output_type": "stream",
     "text": [
      "[0.4422297034403999, 0.40017747732532993, 0.4248699375122238]\n",
      "[0.4337966732234505, 0.3893793527213882, 0.4048779383043852]\n",
      "[0.4615279689492967, 0.43314062867584385, 0.4545017870875105]\n"
     ]
    }
   ],
   "source": [
    "# histogram of the length, and get each interval's average spearman score\n",
    "from matplotlib import pyplot as plt\n",
    "import numpy as np\n",
    "print(max(length_list))\n",
    "counts, bins = np.histogram(length_list,bins=[0,500,1000,2500])\n",
    "print(bins)\n",
    "#plt.stairs(counts, bins)\n",
    "index = np.digitize(length_list, bins)\n",
    "print(len(index),len(protssn_list))\n",
    "#protssn_dic = {}.fromkeys(range(1, len(bins)+1), [])\n",
    "protssn_dic = {k: [] for k in range(1,len(bins))}\n",
    "pst_dic = {k: [] for k in range(1,len(bins))}\n",
    "saprot_dic = {k: [] for k in range(1,len(bins))}\n",
    "for i,j in enumerate(index):\n",
    "    protssn_dic[j].append(protssn_list[i])\n",
    "    pst_dic[j].append(pst_list[i])\n",
    "    saprot_dic[j].append(saprot_list[i])\n",
    "    #print(protssn_dic)\n",
    "protssn_avg = [np.mean(protssn_dic[i]) for i in protssn_dic.keys()]\n",
    "pst_avg = [np.mean(pst_dic[i]) for i in pst_dic.keys()]\n",
    "saprot_avg = [np.mean(saprot_dic[i]) for i in saprot_dic.keys()]\n",
    "# plot each interval's average spearman score on top of the histogram\n",
    "fig, ax1 = plt.subplots()\n",
    "plt.stairs(counts, bins)\n",
    "ax2 = ax1.twinx()\n",
    "\n",
    "ax2.scatter([250,750,1500],protssn_avg)\n",
    "plt.show()\n",
    "print(protssn_avg)\n",
    "print(pst_avg) \n",
    "print(saprot_avg)   "
   ]
  },
  {
   "cell_type": "code",
   "execution_count": 78,
   "metadata": {},
   "outputs": [
    {
     "name": "stdout",
     "output_type": "stream",
     "text": [
      "Expression 17 0.4465868367039278\n",
      "Expression 17 0.42699449690288005\n",
      "Expression 17 0.48609295621971593\n",
      "Stability 15 0.47612057577610273\n",
      "Stability 15 0.49134156107249893\n",
      "Stability 15 0.5616114363631621\n",
      "Activity 37 0.47136967775875227\n",
      "Activity 37 0.4679551526888465\n",
      "Activity 37 0.4718056768566821\n",
      "Binding 8 0.34333112822038175\n",
      "Binding 8 0.30362870195115615\n",
      "Binding 8 0.3840404320305888\n",
      "OrganismalFitness 63 0.4007009004244962\n",
      "OrganismalFitness 63 0.38726328857244485\n",
      "OrganismalFitness 63 0.4169747739869776\n"
     ]
    }
   ],
   "source": [
    "# histogram of the function, and get each function's average spearman score\n",
    "unique_type = list(set(type_list))\n",
    "for type in unique_type:\n",
    "    protssn_list = []\n",
    "    pst_list = []\n",
    "    saprot_list = []\n",
    "    for i in range(len(df)):\n",
    "        dms_id = df.iloc[i]['DMS_id']\n",
    "        includes_multiple_mutants = df.iloc[i]['includes_multiple_mutants']\n",
    "        if (dms_id not in dms_id_ignored) and ~includes_multiple_mutants:\n",
    "            if df.iloc[i]['coarse_selection_type'] == type:\n",
    "                df_protssn = pd.read_csv(ProtSSN_result + dms_id + \".csv\")\n",
    "                gt = df_protssn[\"score\"].tolist()\n",
    "                pred_protssn = df_protssn[\"ProtSSN_k20_h512\"].tolist()\n",
    "                spearman_score_protssn = spearmanr(gt, pred_protssn)\n",
    "                protssn_list.append(spearman_score_protssn.correlation)\n",
    "                df_PST_dms = df_PST[df_PST['protein_id'] == dms_id]\n",
    "                pred_PST = df_PST_dms[\"y_score\"].tolist()\n",
    "                gt_PST = df_PST_dms[\"y_true\"].tolist()\n",
    "                df_saprot = pd.read_csv(SaProt_result + dms_id + \"_result.csv\")\n",
    "                pred_saprot = df_saprot[\"mutant_score\"].tolist()\n",
    "                assert gt == gt_PST\n",
    "                spearman_score_PST = spearmanr(gt, pred_PST)\n",
    "                pst_list.append(spearman_score_PST.correlation)\n",
    "                spearman_score_saprot = spearmanr(gt, pred_saprot)\n",
    "                saprot_list.append(spearman_score_saprot.correlation)\n",
    "    print(type, len(protssn_list),np.mean(protssn_list))\n",
    "    print(type, len(pst_list),np.mean(pst_list))\n",
    "    print(type, len(saprot_list),np.mean(saprot_list))\n",
    "    "
   ]
  },
  {
   "cell_type": "code",
   "execution_count": 79,
   "metadata": {},
   "outputs": [
    {
     "name": "stdout",
     "output_type": "stream",
     "text": [
      "['medium', 'medium', 'medium', 'High', 'medium', 'medium', 'Low', 'medium', 'high', 'high', 'Medium', 'medium', 'Medium', 'Medium', 'high', 'Medium', 'Medium', 'Low', 'High', 'Medium', 'high', 'high', 'high', 'high', 'low', nan, 'medium', 'high', 'low', 'Low', 'Low', 'Medium', 'High', 'Medium', 'High', 'Medium', 'Medium', 'High', 'high', 'high', 'High', 'Low', 'high', 'high', 'Medium', 'Medium', 'Low', 'low', 'low', 'Medium', 'High', 'High', 'High', 'medium', 'medium', 'medium', 'High', 'High', 'Low', 'high', 'high', 'high', 'High', 'Medium', 'medium', 'low', 'Low', 'low', 'Low', 'medium', 'Medium', 'Medium', 'Medium', 'medium', 'Low', 'Medium', 'medium', 'medium', 'Medium', 'Medium', 'medium', 'high', 'High', 'High', 'Medium', 'Medium', 'medium', 'Medium', 'Medium', 'high', 'medium', 'Medium', 'Medium', 'Medium', 'Medium', 'medium', 'Medium', 'medium', 'medium', 'Low', 'High', 'medium', 'High', 'Low', 'Low', 'low', 'high', 'High', 'High', 'High', 'High', 'High', 'Medium', 'High', 'High', 'High', 'low', 'low', 'low', 'low', 'medium', 'medium', 'medium', nan, 'High', 'High', 'High', 'High', 'medium', 'Low', 'medium', 'Medium', 'Medium', 'Low', 'Medium', 'Low', 'Medium', 'medium', 'medium', 'medium', 'Medium', 'Medium', 'medium', 'Low', 'Medium', 'Medium', 'Low', 'medium', 'High', 'Low', 'high', 'High', 'High', 'High', 'Medium', 'High', 'High', 'Low', 'medium', 'High', 'High', 'medium', 'medium', 'medium', 'Medium', 'High', 'High', 'High', 'Medium', 'Medium', 'Medium', 'High', 'Medium', 'medium', 'High', 'medium', 'Medium', 'High', 'Medium', 'High', 'Medium', 'low', 'Medium', 'Medium', 'medium', 'medium', 'High', 'Medium', 'High', 'High', 'medium', 'Medium', 'Medium', 'high', 'medium', 'low', 'high', 'Medium', 'High', 'High', 'medium', 'medium', 'low', 'medium', 'medium', 'medium', 'High', 'low', 'Medium', 'High', 'High', 'medium', 'medium', 'Medium', 'Medium', 'low', 'Medium']\n",
      "low 23 0.4122709990654529\n",
      "low 23 0.3944568054007683\n",
      "low 23 0.42664633783324407\n",
      "medium 80 0.41515697973803717\n",
      "medium 80 0.40098246904025797\n",
      "medium 80 0.4347795787065767\n",
      "high 36 0.4728375570799446\n",
      "high 36 0.4770459869217085\n",
      "high 36 0.5126537131564303\n",
      "nan 1 0.4483252777620597\n",
      "nan 1 0.4452277319772246\n",
      "nan 1 0.43553032198190716\n"
     ]
    }
   ],
   "source": [
    "# spearman by MSA Depth\n",
    "MSA_depth_list = df[\"MSA_Neff_L_category\"].tolist()\n",
    "print(MSA_depth_list)\n",
    "MSA_depth_list = [str(x).lower() for x in MSA_depth_list]\n",
    "unique_type = list(set(MSA_depth_list))\n",
    "for type in unique_type:\n",
    "    protssn_list = []\n",
    "    pst_list = []\n",
    "    saprot_list = []\n",
    "    for i in range(len(df)):\n",
    "        dms_id = df.iloc[i]['DMS_id']\n",
    "        includes_multiple_mutants = df.iloc[i]['includes_multiple_mutants']\n",
    "        if (dms_id not in dms_id_ignored) and ~includes_multiple_mutants:\n",
    "            if MSA_depth_list[i] == type:\n",
    "                df_protssn = pd.read_csv(ProtSSN_result + dms_id + \".csv\")\n",
    "                gt = df_protssn[\"score\"].tolist()\n",
    "                pred_protssn = df_protssn[\"ProtSSN_k20_h512\"].tolist()\n",
    "                spearman_score_protssn = spearmanr(gt, pred_protssn)\n",
    "                protssn_list.append(spearman_score_protssn.correlation)\n",
    "                df_PST_dms = df_PST[df_PST['protein_id'] == dms_id]\n",
    "                pred_PST = df_PST_dms[\"y_score\"].tolist()\n",
    "                gt_PST = df_PST_dms[\"y_true\"].tolist()\n",
    "                df_saprot = pd.read_csv(SaProt_result + dms_id + \"_result.csv\")\n",
    "                pred_saprot = df_saprot[\"mutant_score\"].tolist()\n",
    "                spearman_score_saprot = spearmanr(gt, pred_saprot)\n",
    "                assert gt == gt_PST\n",
    "                spearman_score_PST = spearmanr(gt, pred_PST)\n",
    "                pst_list.append(spearman_score_PST.correlation)\n",
    "                saprot_list.append(spearman_score_saprot.correlation)\n",
    "    print(type, len(protssn_list),np.mean(protssn_list))\n",
    "    print(type, len(pst_list),np.mean(pst_list))\n",
    "    print(type, len(saprot_list),np.mean(saprot_list))"
   ]
  }
 ],
 "metadata": {
  "kernelspec": {
   "display_name": "Python 3 (ipykernel)",
   "language": "python",
   "name": "python3"
  },
  "language_info": {
   "codemirror_mode": {
    "name": "ipython",
    "version": 3
   },
   "file_extension": ".py",
   "mimetype": "text/x-python",
   "name": "python",
   "nbconvert_exporter": "python",
   "pygments_lexer": "ipython3",
   "version": "3.9.19"
  }
 },
 "nbformat": 4,
 "nbformat_minor": 2
}
