{
 "cells": [
  {
   "cell_type": "code",
   "execution_count": 5,
   "metadata": {},
   "outputs": [
    {
     "name": "stdout",
     "output_type": "stream",
     "text": [
      "seq: NSPRIVQSNDLTEAAYSLSRDQKRMLYLFVDQIRKSDDGICEIHVAKYAEIFGLTSAEASKDIRQALKSFAGKEVVFYYESFPWFIKPAHSPSRGLYSVHINPYLIPFFIGLQNRFTQFRLSETKEITNPYAMRLYESLCQYRKPDGSGIVSLKIDWIIERYQLPQSYQRMPDFRRRFLQVCVNEINSRTPMRLSYIEKKKGRQTTHIVFSFRDITS\n",
      "foldseek_seq: DFQKAKFAVQQLLKAWEAAPLLVLVVSVQLSCLAVVVQQKDKDALVVSCVVLVHDSVVSVVSVVVRLVVLPPTWIAGVHDIDRQFPDRWDAPDVRMIITGGDSVRSVRRPPDDDNMFIDGPQQCSQQRGVLLVSVVRVQSSAADPQQWGKDKDWLVSSCRRNVDDPQCRPPVSVCPVPVPVSLVRSCVRGQKNKDWDWDDDPPDTTIIMMTIGGVVD\n",
      "combined_seq: NdSfPqRkIaVkQfSaNvDqLqTlElAkAaYwSeLaSaRpDlQlKvRlMvLvYsLvFqVlDsQcIlRaKvSvDvDqGqIkCdEkIdHaVlAvKvYsAcEvIvFlGvLhTdSsAvEvAsSvKvDsIvRvQvArLlKvSvFlApGpKtEwViVaFgYvYhEdSiFdPrWqFfIpKdPrAwHdSaPpSdRvGrLmYiSiVtHgIgNdPsYvLrIsPvFrFrIpGpLdQdNdRnFmTfQiFdRgLpSqEqTcKsEqIqTrNgPvYlAlMvRsLvYvErSvLqCsQsYaRaKdPpDqGqSwGgIkVdSkLdKwIlDvWsIsIcErRrYnQvLdPdQpSqYcQrRpMpPvDsFvRcRpRvFpLvQpVvCsVlNvErIsNcSvRrTgPqMkRnLkSdYwIdEwKdKdKdGpRpQdTtTtHiIiVmFmStFiRgDgIvTvSd\n"
     ]
    }
   ],
   "source": [
    "from SaProt.utils.foldseek_util import get_struc_seq\n",
    "pdb_path = \"SaProt/example/8ac8.cif\"\n",
    "\n",
    "# Extract the \"A\" chain from the pdb file and encode it into a struc_seq\n",
    "# pLDDT is used to mask low-confidence regions if \"plddt_path\" is provided\n",
    "parsed_seqs = get_struc_seq(\"SaProt/bin/foldseek\", pdb_path, [\"A\"])[\"A\"]\n",
    "seq, foldseek_seq, combined_seq = parsed_seqs\n",
    "\n",
    "print(f\"seq: {seq}\")\n",
    "print(f\"foldseek_seq: {foldseek_seq}\")\n",
    "print(f\"combined_seq: {combined_seq}\")"
   ]
  },
  {
   "cell_type": "code",
   "execution_count": null,
   "metadata": {},
   "outputs": [],
   "source": []
  }
 ],
 "metadata": {
  "kernelspec": {
   "display_name": "Python 3 (ipykernel)",
   "language": "python",
   "name": "python3"
  },
  "language_info": {
   "codemirror_mode": {
    "name": "ipython",
    "version": 3
   },
   "file_extension": ".py",
   "mimetype": "text/x-python",
   "name": "python",
   "nbconvert_exporter": "python",
   "pygments_lexer": "ipython3",
   "version": "3.9.19"
  }
 },
 "nbformat": 4,
 "nbformat_minor": 2
}
