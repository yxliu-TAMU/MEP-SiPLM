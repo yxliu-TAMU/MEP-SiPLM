{
 "cells": [
  {
   "cell_type": "markdown",
   "metadata": {},
   "source": [
    "# benchmark for the ProtSSN on the ProteinGym dataset"
   ]
  },
  {
   "cell_type": "code",
   "execution_count": 4,
   "metadata": {},
   "outputs": [],
   "source": [
    "#cd to ProtSSN folder, and run the zeroshot_predict.py follow the readme files instruction\n",
    "import os\n",
    "DATASET = \"ProteinGym\"\n",
    "os.system(\"cd ProtSSN\")\n",
    "os.system(f\"cd ProtSSN; CUDA_VISIBLE_DEVICES=0 python zeroshot_predict.py \\\n",
    "    --gnn_model_name k10_h512 \\\n",
    "    --mutant_dataset_dir data/{DATASET} \\\n",
    "    --result_dir result/{DATASET}\")\n"
   ]
  }
 ],
 "metadata": {
  "kernelspec": {
   "display_name": "Python 3 (ipykernel)",
   "language": "python",
   "name": "python3"
  },
  "language_info": {
   "codemirror_mode": {
    "name": "ipython",
    "version": 3
   },
   "file_extension": ".py",
   "mimetype": "text/x-python",
   "name": "python",
   "nbconvert_exporter": "python",
   "pygments_lexer": "ipython3",
   "version": "3.9.19"
  }
 },
 "nbformat": 4,
 "nbformat_minor": 2
}
